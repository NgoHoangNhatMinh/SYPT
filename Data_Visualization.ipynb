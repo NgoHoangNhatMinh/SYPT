{
  "nbformat": 4,
  "nbformat_minor": 0,
  "metadata": {
    "colab": {
      "provenance": [],
      "authorship_tag": "ABX9TyMf0lhec6Hlx99gXKSAJrIC",
      "include_colab_link": true
    },
    "kernelspec": {
      "name": "python3",
      "display_name": "Python 3"
    },
    "language_info": {
      "name": "python"
    }
  },
  "cells": [
    {
      "cell_type": "markdown",
      "metadata": {
        "id": "view-in-github",
        "colab_type": "text"
      },
      "source": [
        "<a href=\"https://colab.research.google.com/github/NgoHoangNhatMinh/SYPT/blob/main/Data_Visualization.ipynb\" target=\"_parent\"><img src=\"https://colab.research.google.com/assets/colab-badge.svg\" alt=\"Open In Colab\"/></a>"
      ]
    },
    {
      "cell_type": "code",
      "execution_count": 2,
      "metadata": {
        "id": "LK-ZX-hLZAvF"
      },
      "outputs": [],
      "source": [
        "import numpy as np\n",
        "import matplotlib.pyplot as plt\n",
        "import pandas as pd\n",
        "import io\n",
        "from google.colab import files\n",
        "from sklearn.linear_model import LinearRegression\n",
        "%matplotlib inline"
      ]
    },
    {
      "cell_type": "code",
      "source": [
        "uploaded = files.upload() # upload local file"
      ],
      "metadata": {
        "id": "kOpYPjINLwNr",
        "collapsed": true
      },
      "execution_count": null,
      "outputs": []
    },
    {
      "cell_type": "code",
      "source": [
        "uploaded_file = uploaded['PsR.csv']\n",
        "df = pd.read_csv(io.BytesIO(uploaded_file))"
      ],
      "metadata": {
        "id": "G2IJr5HROOWl",
        "collapsed": true
      },
      "execution_count": 4,
      "outputs": []
    },
    {
      "cell_type": "code",
      "source": [
        "plt.plot(df[\"Voltage\"], df[\"Value\"], \"r+\")\n",
        "plt.ylabel('Voltage (mV)')\n",
        "plt.xlabel('x (m)')\n",
        "plt.show()"
      ],
      "metadata": {
        "id": "YOm_S5b9P9qa",
        "collapsed": true
      },
      "execution_count": null,
      "outputs": []
    },
    {
      "cell_type": "code",
      "source": [
        "lr_model = LinearRegression()\n",
        "lr_model.fit(df[\"Year\"], df[\"Value\"])\n",
        "w = lr_model.coef_\n",
        "b = lr_model.intercept_"
      ],
      "metadata": {
        "id": "PoSyDLsYTXtO"
      },
      "execution_count": null,
      "outputs": []
    },
    {
      "cell_type": "code",
      "source": [
        "def graph():\n",
        "    x = np.arange(0, 100)\n",
        "    y_pred = lr_model.predict(X)  # <- note now we're calling the function 'formula' with x\n",
        "    plt.plot(x, y)\n",
        "    plt.show()\n",
        "\n",
        "graph()"
      ],
      "metadata": {
        "id": "a7GaqD1uUb0Z"
      },
      "execution_count": null,
      "outputs": []
    }
  ]
}